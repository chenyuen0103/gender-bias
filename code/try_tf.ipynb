{
 "cells": [
  {
   "cell_type": "code",
   "outputs": [],
   "source": [
    "import pandas as pd\n",
    "import os\n",
    "from transformers import GPT2TokenizerFast, GPT2LMHeadModel, pipeline\n",
    "import math\n",
    "import torch\n",
    "import numpy as np\n",
    "\n",
    "input_dir = '../data/inputs'\n",
    "output_dir = '../data/outputs/s0'\n",
    "results_dir = '../data/results'\n",
    "if not os.path.exists(results_dir):\n",
    "    os.makedirs(results_dir)"
   ],
   "metadata": {
    "collapsed": false,
    "ExecuteTime": {
     "end_time": "2024-06-06T03:57:33.142695Z",
     "start_time": "2024-06-06T03:57:33.136062Z"
    }
   },
   "id": "f44b57b8ed707cad",
   "execution_count": 167
  },
  {
   "cell_type": "code",
   "outputs": [],
   "source": [
    "model_str_map = {\n",
    "    'llama3-8b': 'Llama3 8B',\n",
    "    'llama3-8b-instruct': 'Llama3 8B (Instruct)',\n",
    "    'mistral-7b': 'Mistral 7B',\n",
    "    'mistral-7b-instruct': 'Mistral 7B (Instruct)',\n",
    "    'llama2-7b': 'Llama2 7B',\n",
    "    'llama2-7b-instruct': 'Llama2 7B (Instruct)',\n",
    "}\n",
    "model_strs = ['llama3-8b', 'llama3-8b-instruct', 'mistral-7b', 'mistral-7b-instruct', 'llama2-7b', 'llama2-7b-instruct']\n",
    "model_strs = sorted(model_strs, key=len, reverse=True)"
   ],
   "metadata": {
    "collapsed": false,
    "ExecuteTime": {
     "end_time": "2024-06-06T03:57:33.328535Z",
     "start_time": "2024-06-06T03:57:33.325683Z"
    }
   },
   "id": "18db9a6c65c4e55f",
   "execution_count": 168
  },
  {
   "cell_type": "code",
   "outputs": [],
   "source": [
    "female_ratios = pd.read_csv(os.path.join(input_dir, 'female_ratios.csv'))\n",
    "# for model in  llama3-8b llama3-8b-instruct mistral-7b mistral-7b-instruct llama2-7b llama2-7b-chat\n",
    "\n",
    "\n",
    "prompt_ids = ['none','low-1','low-2','medium-3','medium-4','high-5','high-6']\n",
    "prompt_id_mapping = {pid: idx for idx, pid in enumerate(prompt_ids)}\n",
    "\n",
    "df_list = []\n",
    "for f in os.listdir(output_dir):\n",
    "    if \"conv\" not in f and \"gender\" not in f and 'gpt2' not in f:\n",
    "    # if 'conversation.csv' in f:\n",
    "    \n",
    "        df = pd.read_csv(os.path.join(output_dir, f))\n",
    "        df = pd.merge(df,female_ratios,on='job')\n",
    "        df = df.drop(columns=['job','Unnamed: 0'])\n",
    "\n",
    "        df['female_dominated'] = df['female_ratio'] > 50\n",
    "        # Extract prompt ID from filename\n",
    "        prompt_id_str = next((pid for pid in prompt_ids if pid in f), 'none')\n",
    "        prompt_id = prompt_id_mapping[prompt_id_str]\n",
    "        df['debiasing_prompt_id'] = prompt_id\n",
    "        \n",
    "                # Extract model from filename\n",
    "        model_str = next((model for model in model_strs if model in f), None)\n",
    "        df['model'] = model_str\n",
    "        df['conversation'] = 'conv' in f\n",
    "\n",
    "        # Remove model name from other column names\n",
    "        if model_str:\n",
    "            df = df.rename(columns=lambda x: x.replace(f'{model_str}_', '') if model_str in x else x)\n",
    "\n",
    "\n",
    "        numeric_cols = df.select_dtypes(include='number').columns\n",
    "        grouped_df = df.groupby(['female_dominated', 'model','conversation'])[numeric_cols].mean().reset_index()\n",
    "    \n",
    "        if 'male_met-met' in df.columns:\n",
    "            col_ends = ['met-met', 'friend', 'talk-met']\n",
    "            # Compute averages for male, female, and diverse columns\n",
    "            male_cols = ['male_' + end for end in col_ends]\n",
    "            female_cols = ['female_' + end for end in col_ends]\n",
    "            diverse_cols = ['diverse_' + end for end in col_ends]\n",
    "\n",
    "    \n",
    "            grouped_df['male'] = grouped_df[male_cols].mean(axis=1)\n",
    "            grouped_df['female'] = grouped_df[female_cols].mean(axis=1)\n",
    "            grouped_df['diverse'] = grouped_df[diverse_cols].mean(axis=1)\n",
    "            grouped_df = grouped_df.drop(columns=male_cols + female_cols + diverse_cols)\n",
    "\n",
    "            \n",
    "        df_list.append(grouped_df)\n",
    "    # concat all the dataframes\n",
    "df = pd.concat(df_list)\n",
    "df.to_csv(os.path.join(results_dir, 'implicit.csv'), index=False)\n",
    "        "
   ],
   "metadata": {
    "collapsed": false,
    "ExecuteTime": {
     "end_time": "2024-06-06T03:57:33.669954Z",
     "start_time": "2024-06-06T03:57:33.513832Z"
    }
   },
   "id": "9026f5b07325c14a",
   "execution_count": 169
  },
  {
   "cell_type": "code",
   "outputs": [],
   "source": [
    "df_list = []\n",
    "for f in os.listdir(output_dir):\n",
    "    if 'genderquestion.csv' in f and 'gpt2' not in f:\n",
    "        df = pd.read_csv(os.path.join(output_dir, f))\n",
    "        df = pd.merge(df,female_ratios,on='job')\n",
    "        df = df.drop(columns=['job','Unnamed: 0'])\n",
    "\n",
    "\n",
    "        df['female_dominated'] = df['female_ratio'] > 50\n",
    "        # Extract prompt ID from filename\n",
    "        prompt_id_str = next((pid for pid in prompt_ids if pid in f), 'none')\n",
    "        prompt_id = prompt_id_mapping[prompt_id_str]\n",
    "        df['debiasing_prompt_id'] = prompt_id\n",
    "        \n",
    "                # Extract model from filename\n",
    "        model_str = next((model for model in model_strs if model in f), None)\n",
    "        df['model'] = model_str\n",
    "        df['conversation'] = 'conv' in f\n",
    "\n",
    "        # Remove model name from other column names\n",
    "        if model_str:\n",
    "            df = df.rename(columns=lambda x: x.replace(f'{model_str}_', '') if model_str in x else x)\n",
    "\n",
    "        \n",
    "        # grouped_df = df.groupby('female_dominated').mean().reset_index()\n",
    "        numeric_cols = df.select_dtypes(include='number').columns\n",
    "        grouped_df = df.groupby(['female_dominated', 'model','conversation'])[numeric_cols].mean().reset_index()\n",
    "    \n",
    "        if 'male_met-met' in df.columns:\n",
    "            col_ends = ['met-met', 'friend', 'talk-met']\n",
    "            # Compute averages for male, female, and diverse columns\n",
    "            male_cols = ['male_' + end for end in col_ends]\n",
    "            female_cols = ['female_' + end for end in col_ends]\n",
    "            diverse_cols = ['diverse_' + end for end in col_ends]\n",
    "\n",
    "    \n",
    "            grouped_df['male'] = grouped_df[male_cols].mean(axis=1)\n",
    "            grouped_df['female'] = grouped_df[female_cols].mean(axis=1)\n",
    "            grouped_df['diverse'] = grouped_df[diverse_cols].mean(axis=1)\n",
    "            grouped_df = grouped_df.drop(columns=male_cols + female_cols + diverse_cols)\n",
    "\n",
    "            \n",
    "        df_list.append(grouped_df)\n",
    "    # concat all the dataframes\n",
    "df = pd.concat(df_list)\n",
    "df.to_csv(os.path.join(results_dir, 'explicit.csv'), index=False)"
   ],
   "metadata": {
    "collapsed": false,
    "ExecuteTime": {
     "end_time": "2024-06-06T03:57:33.844677Z",
     "start_time": "2024-06-06T03:57:33.741912Z"
    }
   },
   "id": "6929333781b2efd3",
   "execution_count": 170
  },
  {
   "cell_type": "code",
   "outputs": [],
   "source": [
    "df_implicit = pd.read_csv(os.path.join(results_dir, 'implicit.csv'))\n",
    "df_explicit = pd.read_csv(os.path.join(results_dir, 'explicit.csv'))\n",
    "\n",
    "# if any column starts with a space, remove it\n",
    "df_implicit.columns = df_implicit.columns.str.strip()\n",
    "df_explicit.columns = df_explicit.columns.str.strip()\n",
    "\n",
    "for model, group_df in df_implicit.groupby('model'):\n",
    "    # Save the DataFrame to a CSV file\n",
    "    if not os.path.exists(os.path.join(results_dir,model)):\n",
    "        os.makedirs(os.path.join(results_dir,model))\n",
    "    group_df.to_csv(os.path.join(results_dir,model, f'implicit.csv'), index=False)\n",
    "\n",
    "for model, group_df in df_explicit.groupby('model'):\n",
    "    # Save the DataFrame to a CSV file\n",
    "    if not os.path.exists(os.path.join(results_dir,model)):\n",
    "        os.makedirs(os.path.join(results_dir,model))\n",
    "    group_df.to_csv(os.path.join(results_dir,model, f'explicit.csv'), index=False)\n"
   ],
   "metadata": {
    "collapsed": false,
    "ExecuteTime": {
     "end_time": "2024-06-06T03:57:33.929381Z",
     "start_time": "2024-06-06T03:57:33.920031Z"
    }
   },
   "id": "a649ed31f1e5571c",
   "execution_count": 171
  },
  {
   "cell_type": "code",
   "outputs": [],
   "source": [
    "prompt_id_map = {\n",
    "    0: 'None',\n",
    "    1: '1',\n",
    "    2: '2',\n",
    "    3: '3',\n",
    "    4: '4',\n",
    "    5: '5',\n",
    "    6: '6'\n",
    "}\n",
    "\n",
    "abstraction_levels = {\n",
    "    0: '',\n",
    "    1: 'High',\n",
    "    2: 'High',\n",
    "    3: 'Med.',\n",
    "    4: 'Med.',\n",
    "    5: 'Low',\n",
    "    6: 'Low'\n",
    "}\n",
    "\n",
    "abs_order = ['', 'High', 'Med.', 'Low']"
   ],
   "metadata": {
    "collapsed": false,
    "ExecuteTime": {
     "end_time": "2024-06-06T03:57:34.082314Z",
     "start_time": "2024-06-06T03:57:34.080184Z"
    }
   },
   "id": "7f353fee7e286d0c",
   "execution_count": 172
  },
  {
   "cell_type": "code",
   "outputs": [],
   "source": [
    "df_implicit = pd.read_csv(os.path.join(results_dir, model, 'implicit.csv'))"
   ],
   "metadata": {
    "collapsed": false,
    "ExecuteTime": {
     "end_time": "2024-06-06T03:57:34.436607Z",
     "start_time": "2024-06-06T03:57:34.431971Z"
    }
   },
   "id": "3e5ff3a42c55752e",
   "execution_count": 173
  },
  {
   "cell_type": "code",
   "outputs": [
    {
     "data": {
      "text/plain": "    female_dominated                model  conversation  male_met-met_prob  \\\n0              False  mistral-7b-instruct         False       4.101928e-01   \n1               True  mistral-7b-instruct         False       2.347069e-02   \n2              False  mistral-7b-instruct         False       4.234979e-02   \n3               True  mistral-7b-instruct         False       2.201685e-03   \n4              False  mistral-7b-instruct         False       5.459991e-01   \n5               True  mistral-7b-instruct         False       2.408479e-02   \n6              False  mistral-7b-instruct         False       3.707337e-02   \n7               True  mistral-7b-instruct         False       6.986811e-03   \n8              False  mistral-7b-instruct         False       6.370827e-07   \n9               True  mistral-7b-instruct         False       1.905274e-06   \n10             False  mistral-7b-instruct         False       1.892721e-05   \n11              True  mistral-7b-instruct         False       2.385232e-04   \n12             False  mistral-7b-instruct         False       7.867187e-02   \n13              True  mistral-7b-instruct         False       4.954313e-03   \n\n    female_met-met_prob  diverse_met-met_prob  male_friend_prob  \\\n0              0.006906              0.014445          0.894686   \n1              0.290500              0.026629          0.076144   \n2              0.007928              0.024922          0.562669   \n3              0.065159              0.034012          0.068567   \n4              0.079046              0.055542          0.782168   \n5              0.593067              0.047012          0.111543   \n6              0.034011              0.523692          0.002337   \n7              0.186201              0.338805          0.025522   \n8              0.000422              0.982156          0.000003   \n9              0.000330              0.969405          0.000002   \n10             0.004484              0.844688          0.000011   \n11             0.012161              0.746994          0.000017   \n12             0.163770              0.363728          0.243293   \n13             0.384031              0.195261          0.088848   \n\n    female_friend_prob  diverse_friend_prob  male_talk-met_prob  \\\n0             0.008222             0.003306            0.915289   \n1             0.819887             0.008868            0.228155   \n2             0.136326             0.008648            0.731328   \n3             0.517397             0.011637            0.173626   \n4             0.056382             0.021918            0.869246   \n5             0.713490             0.049710            0.263152   \n6             0.019565             0.897264            0.309659   \n7             0.036379             0.815533            0.127773   \n8             0.000019             0.991079            0.000045   \n9             0.000010             0.989375            0.000135   \n10            0.000152             0.893605            0.000684   \n11            0.000246             0.859036            0.000766   \n12            0.260098             0.306996            0.407546   \n13            0.369217             0.274290            0.097044   \n\n    female_talk-met_prob  diverse_talk-met_prob  female_ratio  \\\n0               0.029218               0.053381         5.535   \n1               0.645223               0.094725        89.265   \n2               0.063211               0.204945         5.535   \n3               0.466581               0.319889        89.265   \n4               0.071427               0.058191         5.535   \n5               0.601335               0.100628        89.265   \n6               0.090892               0.596866         5.535   \n7               0.356118               0.482107        89.265   \n8               0.000004               0.999924         5.535   \n9               0.000015               0.999544        89.265   \n10              0.000123               0.998595         5.535   \n11              0.002645               0.990312        89.265   \n12              0.158386               0.432351         5.535   \n13              0.392542               0.474232        89.265   \n\n    debiasing_prompt_id      male    female   diverse  \n0                   0.0  0.949883  0.019478  0.030638  \n1                   0.0  0.149688  0.777655  0.072657  \n2                   1.0  0.661385  0.129182  0.209430  \n3                   1.0  0.124948  0.623243  0.251817  \n4                   2.0  0.850060  0.092508  0.057438  \n5                   2.0  0.168500  0.752747  0.078760  \n6                   3.0  0.127317  0.058255  0.814438  \n7                   3.0  0.064785  0.253845  0.681373  \n8                   5.0  0.000012  0.000145  0.999840  \n9                   5.0  0.000045  0.000118  0.999835  \n10                  6.0  0.000233  0.001952  0.997807  \n11                  6.0  0.000568  0.007578  0.991848  \n12                  4.0  0.285188  0.251912  0.462915  \n13                  4.0  0.080632  0.507540  0.411825  ",
      "text/html": "<div>\n<style scoped>\n    .dataframe tbody tr th:only-of-type {\n        vertical-align: middle;\n    }\n\n    .dataframe tbody tr th {\n        vertical-align: top;\n    }\n\n    .dataframe thead th {\n        text-align: right;\n    }\n</style>\n<table border=\"1\" class=\"dataframe\">\n  <thead>\n    <tr style=\"text-align: right;\">\n      <th></th>\n      <th>female_dominated</th>\n      <th>model</th>\n      <th>conversation</th>\n      <th>male_met-met_prob</th>\n      <th>female_met-met_prob</th>\n      <th>diverse_met-met_prob</th>\n      <th>male_friend_prob</th>\n      <th>female_friend_prob</th>\n      <th>diverse_friend_prob</th>\n      <th>male_talk-met_prob</th>\n      <th>female_talk-met_prob</th>\n      <th>diverse_talk-met_prob</th>\n      <th>female_ratio</th>\n      <th>debiasing_prompt_id</th>\n      <th>male</th>\n      <th>female</th>\n      <th>diverse</th>\n    </tr>\n  </thead>\n  <tbody>\n    <tr>\n      <th>0</th>\n      <td>False</td>\n      <td>mistral-7b-instruct</td>\n      <td>False</td>\n      <td>4.101928e-01</td>\n      <td>0.006906</td>\n      <td>0.014445</td>\n      <td>0.894686</td>\n      <td>0.008222</td>\n      <td>0.003306</td>\n      <td>0.915289</td>\n      <td>0.029218</td>\n      <td>0.053381</td>\n      <td>5.535</td>\n      <td>0.0</td>\n      <td>0.949883</td>\n      <td>0.019478</td>\n      <td>0.030638</td>\n    </tr>\n    <tr>\n      <th>1</th>\n      <td>True</td>\n      <td>mistral-7b-instruct</td>\n      <td>False</td>\n      <td>2.347069e-02</td>\n      <td>0.290500</td>\n      <td>0.026629</td>\n      <td>0.076144</td>\n      <td>0.819887</td>\n      <td>0.008868</td>\n      <td>0.228155</td>\n      <td>0.645223</td>\n      <td>0.094725</td>\n      <td>89.265</td>\n      <td>0.0</td>\n      <td>0.149688</td>\n      <td>0.777655</td>\n      <td>0.072657</td>\n    </tr>\n    <tr>\n      <th>2</th>\n      <td>False</td>\n      <td>mistral-7b-instruct</td>\n      <td>False</td>\n      <td>4.234979e-02</td>\n      <td>0.007928</td>\n      <td>0.024922</td>\n      <td>0.562669</td>\n      <td>0.136326</td>\n      <td>0.008648</td>\n      <td>0.731328</td>\n      <td>0.063211</td>\n      <td>0.204945</td>\n      <td>5.535</td>\n      <td>1.0</td>\n      <td>0.661385</td>\n      <td>0.129182</td>\n      <td>0.209430</td>\n    </tr>\n    <tr>\n      <th>3</th>\n      <td>True</td>\n      <td>mistral-7b-instruct</td>\n      <td>False</td>\n      <td>2.201685e-03</td>\n      <td>0.065159</td>\n      <td>0.034012</td>\n      <td>0.068567</td>\n      <td>0.517397</td>\n      <td>0.011637</td>\n      <td>0.173626</td>\n      <td>0.466581</td>\n      <td>0.319889</td>\n      <td>89.265</td>\n      <td>1.0</td>\n      <td>0.124948</td>\n      <td>0.623243</td>\n      <td>0.251817</td>\n    </tr>\n    <tr>\n      <th>4</th>\n      <td>False</td>\n      <td>mistral-7b-instruct</td>\n      <td>False</td>\n      <td>5.459991e-01</td>\n      <td>0.079046</td>\n      <td>0.055542</td>\n      <td>0.782168</td>\n      <td>0.056382</td>\n      <td>0.021918</td>\n      <td>0.869246</td>\n      <td>0.071427</td>\n      <td>0.058191</td>\n      <td>5.535</td>\n      <td>2.0</td>\n      <td>0.850060</td>\n      <td>0.092508</td>\n      <td>0.057438</td>\n    </tr>\n    <tr>\n      <th>5</th>\n      <td>True</td>\n      <td>mistral-7b-instruct</td>\n      <td>False</td>\n      <td>2.408479e-02</td>\n      <td>0.593067</td>\n      <td>0.047012</td>\n      <td>0.111543</td>\n      <td>0.713490</td>\n      <td>0.049710</td>\n      <td>0.263152</td>\n      <td>0.601335</td>\n      <td>0.100628</td>\n      <td>89.265</td>\n      <td>2.0</td>\n      <td>0.168500</td>\n      <td>0.752747</td>\n      <td>0.078760</td>\n    </tr>\n    <tr>\n      <th>6</th>\n      <td>False</td>\n      <td>mistral-7b-instruct</td>\n      <td>False</td>\n      <td>3.707337e-02</td>\n      <td>0.034011</td>\n      <td>0.523692</td>\n      <td>0.002337</td>\n      <td>0.019565</td>\n      <td>0.897264</td>\n      <td>0.309659</td>\n      <td>0.090892</td>\n      <td>0.596866</td>\n      <td>5.535</td>\n      <td>3.0</td>\n      <td>0.127317</td>\n      <td>0.058255</td>\n      <td>0.814438</td>\n    </tr>\n    <tr>\n      <th>7</th>\n      <td>True</td>\n      <td>mistral-7b-instruct</td>\n      <td>False</td>\n      <td>6.986811e-03</td>\n      <td>0.186201</td>\n      <td>0.338805</td>\n      <td>0.025522</td>\n      <td>0.036379</td>\n      <td>0.815533</td>\n      <td>0.127773</td>\n      <td>0.356118</td>\n      <td>0.482107</td>\n      <td>89.265</td>\n      <td>3.0</td>\n      <td>0.064785</td>\n      <td>0.253845</td>\n      <td>0.681373</td>\n    </tr>\n    <tr>\n      <th>8</th>\n      <td>False</td>\n      <td>mistral-7b-instruct</td>\n      <td>False</td>\n      <td>6.370827e-07</td>\n      <td>0.000422</td>\n      <td>0.982156</td>\n      <td>0.000003</td>\n      <td>0.000019</td>\n      <td>0.991079</td>\n      <td>0.000045</td>\n      <td>0.000004</td>\n      <td>0.999924</td>\n      <td>5.535</td>\n      <td>5.0</td>\n      <td>0.000012</td>\n      <td>0.000145</td>\n      <td>0.999840</td>\n    </tr>\n    <tr>\n      <th>9</th>\n      <td>True</td>\n      <td>mistral-7b-instruct</td>\n      <td>False</td>\n      <td>1.905274e-06</td>\n      <td>0.000330</td>\n      <td>0.969405</td>\n      <td>0.000002</td>\n      <td>0.000010</td>\n      <td>0.989375</td>\n      <td>0.000135</td>\n      <td>0.000015</td>\n      <td>0.999544</td>\n      <td>89.265</td>\n      <td>5.0</td>\n      <td>0.000045</td>\n      <td>0.000118</td>\n      <td>0.999835</td>\n    </tr>\n    <tr>\n      <th>10</th>\n      <td>False</td>\n      <td>mistral-7b-instruct</td>\n      <td>False</td>\n      <td>1.892721e-05</td>\n      <td>0.004484</td>\n      <td>0.844688</td>\n      <td>0.000011</td>\n      <td>0.000152</td>\n      <td>0.893605</td>\n      <td>0.000684</td>\n      <td>0.000123</td>\n      <td>0.998595</td>\n      <td>5.535</td>\n      <td>6.0</td>\n      <td>0.000233</td>\n      <td>0.001952</td>\n      <td>0.997807</td>\n    </tr>\n    <tr>\n      <th>11</th>\n      <td>True</td>\n      <td>mistral-7b-instruct</td>\n      <td>False</td>\n      <td>2.385232e-04</td>\n      <td>0.012161</td>\n      <td>0.746994</td>\n      <td>0.000017</td>\n      <td>0.000246</td>\n      <td>0.859036</td>\n      <td>0.000766</td>\n      <td>0.002645</td>\n      <td>0.990312</td>\n      <td>89.265</td>\n      <td>6.0</td>\n      <td>0.000568</td>\n      <td>0.007578</td>\n      <td>0.991848</td>\n    </tr>\n    <tr>\n      <th>12</th>\n      <td>False</td>\n      <td>mistral-7b-instruct</td>\n      <td>False</td>\n      <td>7.867187e-02</td>\n      <td>0.163770</td>\n      <td>0.363728</td>\n      <td>0.243293</td>\n      <td>0.260098</td>\n      <td>0.306996</td>\n      <td>0.407546</td>\n      <td>0.158386</td>\n      <td>0.432351</td>\n      <td>5.535</td>\n      <td>4.0</td>\n      <td>0.285188</td>\n      <td>0.251912</td>\n      <td>0.462915</td>\n    </tr>\n    <tr>\n      <th>13</th>\n      <td>True</td>\n      <td>mistral-7b-instruct</td>\n      <td>False</td>\n      <td>4.954313e-03</td>\n      <td>0.384031</td>\n      <td>0.195261</td>\n      <td>0.088848</td>\n      <td>0.369217</td>\n      <td>0.274290</td>\n      <td>0.097044</td>\n      <td>0.392542</td>\n      <td>0.474232</td>\n      <td>89.265</td>\n      <td>4.0</td>\n      <td>0.080632</td>\n      <td>0.507540</td>\n      <td>0.411825</td>\n    </tr>\n  </tbody>\n</table>\n</div>"
     },
     "execution_count": 174,
     "metadata": {},
     "output_type": "execute_result"
    }
   ],
   "source": [
    "df_implicit"
   ],
   "metadata": {
    "collapsed": false,
    "ExecuteTime": {
     "end_time": "2024-06-06T03:57:34.921874Z",
     "start_time": "2024-06-06T03:57:34.918453Z"
    }
   },
   "id": "47868b7cec53e33a",
   "execution_count": 174
  },
  {
   "cell_type": "code",
   "outputs": [
    {
     "name": "stdout",
     "output_type": "stream",
     "text": [
      "Aggregated LaTeX table saved to ../data/results/aggregated_results.tex\n"
     ]
    },
    {
     "name": "stderr",
     "output_type": "stream",
     "text": [
      "/var/folders/h3/mg_n_0ls7kgb1369wvkmb_dh0000gq/T/ipykernel_70961/3854990237.py:65: FutureWarning: The default of observed=False is deprecated and will be changed to True in a future version of pandas. Pass observed=False to retain current behavior or observed=True to adopt the future default and silence this warning.\n",
      "  for abs_level, abs_group in model_df.groupby('Abs.'):\n",
      "/var/folders/h3/mg_n_0ls7kgb1369wvkmb_dh0000gq/T/ipykernel_70961/3854990237.py:65: FutureWarning: The default of observed=False is deprecated and will be changed to True in a future version of pandas. Pass observed=False to retain current behavior or observed=True to adopt the future default and silence this warning.\n",
      "  for abs_level, abs_group in model_df.groupby('Abs.'):\n",
      "/var/folders/h3/mg_n_0ls7kgb1369wvkmb_dh0000gq/T/ipykernel_70961/3854990237.py:65: FutureWarning: The default of observed=False is deprecated and will be changed to True in a future version of pandas. Pass observed=False to retain current behavior or observed=True to adopt the future default and silence this warning.\n",
      "  for abs_level, abs_group in model_df.groupby('Abs.'):\n",
      "/var/folders/h3/mg_n_0ls7kgb1369wvkmb_dh0000gq/T/ipykernel_70961/3854990237.py:65: FutureWarning: The default of observed=False is deprecated and will be changed to True in a future version of pandas. Pass observed=False to retain current behavior or observed=True to adopt the future default and silence this warning.\n",
      "  for abs_level, abs_group in model_df.groupby('Abs.'):\n",
      "/var/folders/h3/mg_n_0ls7kgb1369wvkmb_dh0000gq/T/ipykernel_70961/3854990237.py:65: FutureWarning: The default of observed=False is deprecated and will be changed to True in a future version of pandas. Pass observed=False to retain current behavior or observed=True to adopt the future default and silence this warning.\n",
      "  for abs_level, abs_group in model_df.groupby('Abs.'):\n",
      "/var/folders/h3/mg_n_0ls7kgb1369wvkmb_dh0000gq/T/ipykernel_70961/3854990237.py:65: FutureWarning: The default of observed=False is deprecated and will be changed to True in a future version of pandas. Pass observed=False to retain current behavior or observed=True to adopt the future default and silence this warning.\n",
      "  for abs_level, abs_group in model_df.groupby('Abs.'):\n"
     ]
    }
   ],
   "source": [
    " # Update this to your results directory\n",
    "models = list(model_str_map.keys())\n",
    "\n",
    "output_tex_file = os.path.join(results_dir, 'aggregated_results.tex')\n",
    "\n",
    "with open(output_tex_file, 'w') as f_out:\n",
    "    f_out.write(r'\\onecolumn')\n",
    "    for model in models:\n",
    "        model_name = model.replace('-', '')\n",
    "        model_description = model_str_map[model]\n",
    "\n",
    "        f_out.write(r'\\subsection{' + model_description + '}\\n')\n",
    "        # Load the CSV file into a DataFrame\n",
    "        df_implicit = pd.read_csv(os.path.join(results_dir, model, 'implicit.csv'))\n",
    "        df_explicit = pd.read_csv(os.path.join(results_dir, model, 'explicit.csv'))\n",
    "        \n",
    "        \n",
    "\n",
    "        # Add the abstraction level column to the DataFrame\n",
    "        df_implicit['Abs.'] = df_implicit['debiasing_prompt_id'].map(abstraction_levels)\n",
    "        df_explicit['Abs.'] = df_explicit['debiasing_prompt_id'].map(abstraction_levels)\n",
    "\n",
    "        # Calculate means for each combination of prompt_id, conversation, and female_dominated\n",
    "        grouped_df_implicit = df_implicit.groupby(['Abs.', 'model', 'debiasing_prompt_id', 'conversation', 'female_dominated']).mean(numeric_only=True).reset_index()    \n",
    "        grouped_df_explicit = df_explicit.groupby(['Abs.', 'model', 'debiasing_prompt_id', 'conversation', 'female_dominated']).mean(numeric_only=True).reset_index()    \n",
    "\n",
    "        # Drop the 'model' column\n",
    "        model_df_implicit = grouped_df_implicit.drop(columns=['model'])\n",
    "        model_df_explicit = grouped_df_explicit.drop(columns=['model'])\n",
    "        \n",
    "        # Sort by Abs. and prompt_id to ensure correct order\n",
    "        model_df_implicit['debiasing_prompt_id'] = model_df_implicit['debiasing_prompt_id'].astype(int)\n",
    "        model_df_implicit['Abs.'] = pd.Categorical(model_df_implicit['Abs.'], categories=abs_order, ordered=True)\n",
    "        model_df_implicit = model_df_implicit.sort_values(by=['Abs.', 'debiasing_prompt_id'])\n",
    "        \n",
    "        model_df_explicit['debiasing_prompt_id'] = model_df_explicit['debiasing_prompt_id'].astype(int)\n",
    "        model_df_explicit['Abs.'] = pd.Categorical(model_df_explicit['Abs.'], categories=abs_order, ordered=True)\n",
    "        model_df_explicit = model_df_explicit.sort_values(by=['Abs.', 'debiasing_prompt_id'])\n",
    "        \n",
    "        model_df_implicit['explicit'] = False\n",
    "        model_df_explicit['explicit'] = True\n",
    "        \n",
    "        model_df = pd.concat([model_df_implicit, model_df_explicit])\n",
    "\n",
    "        latex_table = r'''\n",
    "\\begin{table*}[ht!]\n",
    "\\centering\n",
    "\\small\n",
    "% Reduce text size and slightly the gap between columns\n",
    "% \\setlength{\\tabcolsep}{4.6pt} % Default: 5pt\n",
    "  \\resizebox{\\textwidth}{!}{  % Alternative method: resize entire table (problem: also resizes line widths)\n",
    "\\begin{tabular}{l c c c c c c c c c c c c c c}\n",
    "\\toprule\n",
    "& & \\multicolumn{6}{c}{Explicit} & \\multicolumn{6}{c}{Implicit} \\\\\n",
    "\\cmidrule(lr){3-8} \\cmidrule(lr){9-14}\n",
    "& & \\multicolumn{3}{c}{Female Dominated} & \\multicolumn{3}{c}{Male Dominated} & \\multicolumn{3}{c}{Female Dominated} & \\multicolumn{3}{c}{Male Dominated} \\\\\n",
    "\\cmidrule(lr){3-5} \\cmidrule(lr){6-8} \\cmidrule(lr){9-11} \\cmidrule(lr){12-14}\n",
    "    Abs. & ID & M & F & D & M & F & D & M & F & D & M & F & D\\\\\n",
    "    \\midrule\n",
    "'''\n",
    "\n",
    "\n",
    "        previous_abs_level = None\n",
    "\n",
    "        for abs_level, abs_group in model_df.groupby('Abs.'):\n",
    "            if previous_abs_level is not None or abs_level != '':\n",
    "                latex_table += \"        \\\\midrule\\n\"\n",
    "            for prompt_id, prompt_group in abs_group.groupby('debiasing_prompt_id'):\n",
    "                id_label = 'None' if prompt_id == 0 else str(prompt_id)\n",
    "                row_prefix = f\"        {abs_level if prompt_id in [0,2,4,6] else ''} & {id_label} & \"\n",
    "\n",
    "                explicit_fd = prompt_group[(prompt_group['explicit'] == True) & (prompt_group['female_dominated'] == True)]\n",
    "                explicit_md = prompt_group[(prompt_group['explicit'] == True) & (prompt_group['female_dominated'] == False)]\n",
    "                implicit_fd = prompt_group[(prompt_group['explicit'] == False) & (prompt_group['female_dominated'] == True)]\n",
    "                implicit_md = prompt_group[(prompt_group['explicit'] == False) & (prompt_group['female_dominated'] == False)]\n",
    "\n",
    "                row = row_prefix\n",
    "\n",
    "                if not explicit_fd.empty:\n",
    "                    row += f\"{explicit_fd['male'].values[0]*100:.1f}\\\\% & {explicit_fd['female'].values[0]*100:.1f}\\\\% & {explicit_fd['diverse'].values[0]*100:.1f}\\\\% & \"\n",
    "                else:\n",
    "                    row += \" & & & \"\n",
    "\n",
    "                if not explicit_md.empty:\n",
    "                    row += f\"{explicit_md['male'].values[0]*100:.1f}\\\\% & {explicit_md['female'].values[0]*100:.1f}\\\\% & {explicit_md['diverse'].values[0]*100:.1f}\\\\% & \"\n",
    "                else:\n",
    "                    row += \" & & & \"\n",
    "\n",
    "                if not implicit_fd.empty:\n",
    "                    row += f\"{implicit_fd['male'].values[0]*100:.1f}\\\\% & {implicit_fd['female'].values[0]*100:.1f}\\\\% & {implicit_fd['diverse'].values[0]*100:.1f}\\\\% & \"\n",
    "                else:\n",
    "                    row += \" & & & \"\n",
    "\n",
    "                if not implicit_md.empty:\n",
    "                    row += f\"{implicit_md['male'].values[0]*100:.1f}\\\\% & {implicit_md['female'].values[0]*100:.1f}\\\\% & {implicit_md['diverse'].values[0]*100:.1f}\\\\% \"\n",
    "                else:\n",
    "                    row += \" & & \"\n",
    "\n",
    "                row += r\"\\\\\"\n",
    "                latex_table += row + \"\\n\"\n",
    "\n",
    "            if abs_level != '':  # Add averages for all except \"None\"\n",
    "                avg_row_prefix = f\"         & \\\\textbf{{Avg}} & \"\n",
    "\n",
    "                avg_explicit_fd = abs_group[(abs_group['explicit'] == True) & (abs_group['female_dominated'] == True)][['male', 'female', 'diverse']].mean(numeric_only=True)\n",
    "                avg_explicit_md = abs_group[(abs_group['explicit'] == True) & (abs_group['female_dominated'] == False)][['male', 'female', 'diverse']].mean(numeric_only=True)\n",
    "                avg_implicit_fd = abs_group[(abs_group['explicit'] == False) & (abs_group['female_dominated'] == True)][['male', 'female', 'diverse']].mean(numeric_only=True)\n",
    "                avg_implicit_md = abs_group[(abs_group['explicit'] == False) & (abs_group['female_dominated'] == False)][['male', 'female', 'diverse']].mean(numeric_only=True)\n",
    "\n",
    "                avg_row = avg_row_prefix\n",
    "\n",
    "                if not avg_explicit_fd.empty:\n",
    "                    avg_row += f\"\\\\textbf{{{avg_explicit_fd['male']*100:.1f}\\\\%}} & \\\\textbf{{{avg_explicit_fd['female']*100:.1f}\\\\%}} & \\\\textbf{{{avg_explicit_fd['diverse']*100:.1f}\\\\%}} & \"\n",
    "                else:\n",
    "                    avg_row += \" & & & \"\n",
    "\n",
    "                if not avg_explicit_md.empty:\n",
    "                    avg_row += f\"\\\\textbf{{{avg_explicit_md['male']*100:.1f}\\\\%}} & \\\\textbf{{{avg_explicit_md['female']*100:.1f}\\\\%}} & \\\\textbf{{{avg_explicit_md['diverse']*100:.1f}\\\\%}} & \"\n",
    "                else:\n",
    "                    avg_row += \" & & & \"\n",
    "\n",
    "                if not avg_implicit_fd.empty:\n",
    "                    avg_row += f\"\\\\textbf{{{avg_implicit_fd['male']*100:.1f}\\\\%}} & \\\\textbf{{{avg_implicit_fd['female']*100:.1f}\\\\%}} & \\\\textbf{{{avg_implicit_fd['diverse']*100:.1f}\\\\%}} & \"\n",
    "                else:\n",
    "                    avg_row += \" & & & \"\n",
    "\n",
    "                if not avg_implicit_md.empty:\n",
    "                    avg_row += f\"\\\\textbf{{{avg_implicit_md['male']*100:.1f}\\\\%}} & \\\\textbf{{{avg_implicit_md['female']*100:.1f}\\\\%}} & \\\\textbf{{{avg_implicit_md['diverse']*100:.1f}\\\\%}} \"\n",
    "                else:\n",
    "                    avg_row += \" & & \"\n",
    "\n",
    "                avg_row += r\"\\\\\"\n",
    "                latex_table += avg_row + \"\\n\"\n",
    "\n",
    "                previous_abs_level = abs_level\n",
    "\n",
    "        latex_table += r'''\n",
    "\\bottomrule\n",
    "\\end{tabular}\n",
    " } % end \\resizebox\n",
    "\\caption{Results for ''' + model_str_map[model] + r''' on debiasing prompts}\n",
    "\\label{tab:''' + model_name + r'''_debias}\n",
    "\\end{table*}\n",
    "\n",
    "'''\n",
    "\n",
    "        f_out.write(latex_table)\n",
    "        # f_out.write('\\\\clearpage\\n\\n')\n",
    "\n",
    "print(\"Aggregated LaTeX table saved to\", output_tex_file)"
   ],
   "metadata": {
    "collapsed": false,
    "ExecuteTime": {
     "end_time": "2024-06-06T04:10:17.478729Z",
     "start_time": "2024-06-06T04:10:17.356868Z"
    }
   },
   "id": "262f5966f8e50558",
   "execution_count": 180
  },
  {
   "cell_type": "code",
   "outputs": [
    {
     "name": "stdout",
     "output_type": "stream",
     "text": [
      "Aggregated LaTeX table saved to ../data/results/default.tex\n"
     ]
    }
   ],
   "source": [
    "from itertools import product\n",
    "# collect all prompt_id = 0\n",
    "df_default = []\n",
    "for model, file_name in product(models, ['explicit.csv', 'implicit.csv']):\n",
    "    # Load the CSV file into a DataFrame\n",
    "    df_path= os.path.join(results_dir, model, file_name)\n",
    "    df = pd.read_csv(df_path)\n",
    "    if 'explicit' in file_name:\n",
    "        df['explicit'] = True\n",
    "    else :\n",
    "        df['explicit'] = False\n",
    "        \n",
    "    df_default.append(df[df['debiasing_prompt_id'] == 0])\n",
    "\n",
    "df_default = pd.concat(df_default)\n",
    "\n",
    "# Calculate means for each combination of prompt_id, conversation\n",
    "# Calculate means for each combination of model, conversation, and female_dominated\n",
    "grouped_df_default = df_default.groupby(['model', 'conversation', 'female_dominated', 'explicit']).mean(numeric_only=True).reset_index()\n",
    "\n",
    "# Drop the 'debiasing_prompt_id' column as it is always 0 in this filtered DataFrame\n",
    "grouped_df_0 = grouped_df_default.drop(columns=['debiasing_prompt_id', 'conversation'])\n",
    "\n",
    "# Generate LaTeX table\n",
    "latex_table = r'''\n",
    "\\begin{table*}[ht!]\n",
    "\\centering\n",
    "\\small\n",
    "    % Reduce text size and slightly the gap between columns\n",
    "    \\setlength{\\tabcolsep}{4.6pt} % Default: 5pt\n",
    "    % \\resizebox{\\textwidth}{!}{  % Alternative method: resize entire table (problem: also resizes line widths)\n",
    "    \\begin{tabular}{l c c c c c c c c c c c c c c}\n",
    "    \\toprule\n",
    "    & \\multicolumn{6}{c}{Explicit} & \\multicolumn{6}{c}{Implicit} \\\\\n",
    "    \\cmidrule(lr){2-7} \\cmidrule(lr){8-13}\n",
    "    Model & \\multicolumn{3}{c}{Female Dominated} & \\multicolumn{3}{c}{Male Dominated} & \\multicolumn{3}{c}{Female Dominated} & \\multicolumn{3}{c}{Male Dominated} \\\\\n",
    "    \\cmidrule(lr){2-4} \\cmidrule(lr){5-7} \\cmidrule(lr){8-10} \\cmidrule(lr){11-13}\n",
    "    & M & F & D & M & F & D & M & F & D & M & F & D \\\\\n",
    "    \\midrule\n",
    "'''\n",
    "\n",
    "for model in models:\n",
    "    model_name = model_str_map[model]\n",
    "    explicit_fd = grouped_df_0[(grouped_df_0['model'] == model) & (grouped_df_0['explicit'] == True) & (grouped_df_0['female_dominated'] == True)]\n",
    "    explicit_md = grouped_df_0[(grouped_df_0['model'] == model) & (grouped_df_0['explicit'] == True) & (grouped_df_0['female_dominated'] == False)]\n",
    "    implicit_fd = grouped_df_0[(grouped_df_0['model'] == model) & (grouped_df_0['explicit'] == False) & (grouped_df_0['female_dominated'] == True)]\n",
    "    implicit_md = grouped_df_0[(grouped_df_0['model'] == model) & (grouped_df_0['explicit'] == False) & (grouped_df_0['female_dominated'] == False)]\n",
    "    \n",
    "    row_prefix = f\"        {model_name} & \"\n",
    "    row = row_prefix\n",
    "    \n",
    "    if not explicit_fd.empty:\n",
    "        row += f\"{explicit_fd['male'].values[0]*100:.1f}\\\\% & {explicit_fd['female'].values[0]*100:.1f}\\\\% & {explicit_fd['diverse'].values[0]*100:.1f}\\\\% & \"\n",
    "    else:\n",
    "        row += \" & & & \"\n",
    "    \n",
    "    if not explicit_md.empty:\n",
    "        row += f\"{explicit_md['male'].values[0]*100:.1f}\\\\% & {explicit_md['female'].values[0]*100:.1f}\\\\% & {explicit_md['diverse'].values[0]*100:.1f}\\\\% & \"\n",
    "    else:\n",
    "        row += \" & & & \"\n",
    "    \n",
    "    if not implicit_fd.empty:\n",
    "        row += f\"{implicit_fd['male'].values[0]*100:.1f}\\\\% & {implicit_fd['female'].values[0]*100:.1f}\\\\% & {implicit_fd['diverse'].values[0]*100:.1f}\\\\% & \"\n",
    "    else:\n",
    "        row += \" & & & \"\n",
    "    \n",
    "    if not implicit_md.empty:\n",
    "        row += f\"{implicit_md['male'].values[0]*100:.1f}\\\\% & {implicit_md['female'].values[0]*100:.1f}\\\\% & {implicit_md['diverse'].values[0]*100:.1f}\\\\% \"\n",
    "    else:\n",
    "        row += \" & & \"\n",
    "    \n",
    "    row += r\"\\\\\"\n",
    "    if \"instruct\" in model and model != models[-1]:\n",
    "        latex_table += row + \"\\n        \\\\midrule\\n\"\n",
    "    else:\n",
    "        latex_table += row + \"\\n        \\n\"\n",
    "\n",
    "latex_table += r'''\n",
    "\\bottomrule\n",
    "\\end{tabular}\n",
    "% } % end \\resizebox\n",
    "\\caption{Results for all models.}\n",
    "\\label{tab:explicit_default}\n",
    "\\end{table*}\n",
    "'''\n",
    "\n",
    "# Save the LaTeX table to a file\n",
    "output_tex_file = os.path.join(results_dir, 'default.tex')\n",
    "with open(output_tex_file, 'w') as f_out:\n",
    "    f_out.write(latex_table)\n",
    "\n",
    "print(\"Aggregated LaTeX table saved to\", output_tex_file)"
   ],
   "metadata": {
    "collapsed": false,
    "ExecuteTime": {
     "end_time": "2024-06-06T04:26:58.195154Z",
     "start_time": "2024-06-06T04:26:58.151366Z"
    }
   },
   "id": "d39208ea5f1d3a9c",
   "execution_count": 181
  },
  {
   "cell_type": "code",
   "outputs": [
    {
     "name": "stdout",
     "output_type": "stream",
     "text": [
      "Aggregated LaTeX table saved to ../data/results/implicit_default.tex\n"
     ]
    }
   ],
   "source": [
    "from itertools import product\n",
    "# collect all prompt_id = 0\n",
    "df_0 = []\n",
    "for model, file_name in product(models, ['non_gq.csv']):\n",
    "    # Load the CSV file into a DataFrame\n",
    "    df_path = os.path.join(results_dir, model, file_name)\n",
    "    df = pd.read_csv(df_path)\n",
    "    df_0.append(df[df['debiasing_prompt_id'] == 0])\n",
    "    \n",
    "df_0 = pd.concat(df_0)\n",
    "\n",
    "# Calculate means for each combination of prompt_id, conversation\n",
    "# Calculate means for each combination of model, conversation, and female_dominated\n",
    "grouped_df_0 = df_0.groupby(['model', 'conversation', 'female_dominated']).mean(numeric_only=True).reset_index()\n",
    "\n",
    "# Drop the 'debiasing_prompt_id' column as it is always 0 in this filtered DataFrame\n",
    "grouped_df_0 = grouped_df_0.drop(columns=['debiasing_prompt_id'])\n",
    "\n",
    "# Generate LaTeX table\n",
    "latex_table = r'''\n",
    "\\begin{table*}[t]\n",
    "\\centering\n",
    "\\small\n",
    "    % Reduce text size and slightly the gap between columns\n",
    "    \\setlength{\\tabcolsep}{4.6pt} % Default: 5pt\n",
    "    % \\resizebox{\\textwidth}{!}{  % Alternative method: resize entire table (problem: also resizes line widths)\n",
    "    \\begin{tabular}{l c c c c c c c c c c c c c c}\n",
    "    \\toprule\n",
    "    & \\multicolumn{6}{c}{Without Dialogue} & \\multicolumn{6}{c}{With Dialogue} \\\\\n",
    "    \\cmidrule(lr){2-7} \\cmidrule(lr){8-13}\n",
    "    Model & \\multicolumn{3}{c}{Female Dominated} & \\multicolumn{3}{c}{Male Dominated} & \\multicolumn{3}{c}{Female Dominated} & \\multicolumn{3}{c}{Male Dominated} \\\\\n",
    "    \\cmidrule(lr){2-4} \\cmidrule(lr){5-7} \\cmidrule(lr){8-10} \\cmidrule(lr){11-13}\n",
    "    & M & F & D & M & F & D & M & F & D & M & F & D \\\\\n",
    "    \\midrule\n",
    "'''\n",
    "\n",
    "for model in models:\n",
    "    model_name = model_str_map[model]\n",
    "    no_dialogue_fd = grouped_df_0[(grouped_df_0['model'] == model) & (grouped_df_0['conversation'] == False) & (grouped_df_0['female_dominated'] == True)]\n",
    "    no_dialogue_md = grouped_df_0[(grouped_df_0['model'] == model) & (grouped_df_0['conversation'] == False) & (grouped_df_0['female_dominated'] == False)]\n",
    "    dialogue_fd = grouped_df_0[(grouped_df_0['model'] == model) & (grouped_df_0['explicit'] == False) & (grouped_df_0['female_dominated'] == True)]\n",
    "    dialogue_md = grouped_df_0[(grouped_df_0['model'] == model) & (grouped_df_0['explicit'] == False) & (grouped_df_0['female_dominated'] == False)]\n",
    "    \n",
    "    row_prefix = f\"        {model_name} & \"\n",
    "    row = row_prefix\n",
    "    \n",
    "    if not no_dialogue_fd.empty:\n",
    "        row += f\"{no_dialogue_fd['male'].values[0]*100:.1f}\\\\% & {no_dialogue_fd['female'].values[0]*100:.1f}\\\\% & {no_dialogue_fd['diverse'].values[0]*100:.1f}\\\\% & \"\n",
    "    else:\n",
    "        row += \" & & & \"\n",
    "    \n",
    "    if not no_dialogue_md.empty:\n",
    "        row += f\"{no_dialogue_md['male'].values[0]*100:.1f}\\\\% & {no_dialogue_md['female'].values[0]*100:.1f}\\\\% & {no_dialogue_md['diverse'].values[0]*100:.1f}\\\\% & \"\n",
    "    else:\n",
    "        row += \" & & & \"\n",
    "    \n",
    "    if not dialogue_fd.empty:\n",
    "        row += f\"{dialogue_fd['male'].values[0]*100:.1f}\\\\% & {dialogue_fd['female'].values[0]*100:.1f}\\\\% & {dialogue_fd['diverse'].values[0]*100:.1f}\\\\% & \"\n",
    "    else:\n",
    "        row += \" & & & \"\n",
    "    \n",
    "    if not dialogue_md.empty:\n",
    "        row += f\"{dialogue_md['male'].values[0]*100:.1f}\\\\% & {dialogue_md['female'].values[0]*100:.1f}\\\\% & {dialogue_md['diverse'].values[0]*100:.1f}\\\\% \"\n",
    "    else:\n",
    "        row += \" & & \"\n",
    "    \n",
    "    row += r\"\\\\\"\n",
    "    if \"instruct\" in model:\n",
    "        latex_table += row + \"\\n        \\\\midrule\\n\"\n",
    "    else:\n",
    "        latex_table += row + \"\\n        \\n\"\n",
    "\n",
    "latex_table += r'''\n",
    "\\bottomrule\n",
    "\\end{tabular}\n",
    "% } % end \\resizebox\n",
    "\\caption{Results for all models on implicit bias (Average over task prompts 2-4).}\n",
    "\\label{tab:implicit_default}\n",
    "\\end{table*}\n",
    "'''\n",
    "\n",
    "# Save the LaTeX table to a file\n",
    "output_tex_file = os.path.join(results_dir, 'implicit_default.tex')\n",
    "with open(output_tex_file, 'w') as f_out:\n",
    "    f_out.write(latex_table)\n",
    "\n",
    "print(\"Aggregated LaTeX table saved to\", output_tex_file)"
   ],
   "metadata": {
    "collapsed": false
   },
   "id": "2b84e9f84c53cc5a",
   "execution_count": 98
  },
  {
   "cell_type": "code",
   "outputs": [],
   "source": [
    "from itertools import product\n",
    "import pandas as pd\n",
    "import os\n",
    "\n",
    "# Collect all prompt_id = 0\n",
    "df_0 = []\n",
    "models = [\n",
    "    'llama3-8b', 'llama3-8b-instruct', 'mistral-7b', \n",
    "    'mistral-7b-instruct', 'llama2-7b', 'llama2-7b-instruct',  \n",
    "]\n",
    "\n",
    "\n",
    "for model, file_name in product(models, ['genderquestion.csv']):\n",
    "    # Load the CSV file into a DataFrame\n",
    "    df_path = os.path.join(results_dir, model, file_name)\n",
    "    df = pd.read_csv(df_path)\n",
    "    df_0.append(df[df['debiasing_prompt_id'] == 0])\n",
    "\n",
    "df_0 = pd.concat(df_0)\n",
    "\n",
    "# Calculate means for each combination of model, conversation, and female_dominated\n",
    "grouped_df_0 = df_0.groupby(['model', 'conversation', 'female_dominated']).mean(numeric_only=True).reset_index()\n",
    "\n",
    "# Drop the 'debiasing_prompt_id' column as it is always 0 in this filtered DataFrame\n",
    "grouped_df_0 = grouped_df_0.drop(columns=['debiasing_prompt_id'])\n",
    "\n",
    "# Generate LaTeX table\n",
    "latex_table_explicit = r'''\n",
    "\\begin{table*}[t]\n",
    "\\centering\n",
    "\\small\n",
    "    % Reduce text size and slightly the gap between columns\n",
    "    \\setlength{\\tabcolsep}{4.6pt} % Default: 5pt\n",
    "    % \\resizebox{\\textwidth}{!}{  % Alternative method: resize entire table (problem: also resizes line widths)\n",
    "    \\begin{tabular}{l c c c c c c c c c}\n",
    "    \\toprule\n",
    "    & \\multicolumn{3}{c}{Female Dominated} & \\multicolumn{3}{c}{Male Dominated} \\\\\n",
    "    \\cmidrule(lr){2-4} \\cmidrule(lr){5-7}\n",
    "    Model & M & F & D & M & F & D \\\\\n",
    "    \\midrule\n",
    "'''\n",
    "\n",
    "for model in models:\n",
    "    model_name = model_str_map[model]\n",
    "    no_dialogue_fd = grouped_df_0[(grouped_df_0['model'] == model) & (grouped_df_0['conversation'] == False) & (grouped_df_0['female_dominated'] == True)]\n",
    "    no_dialogue_md = grouped_df_0[(grouped_df_0['model'] == model) & (grouped_df_0['conversation'] == False) & (grouped_df_0['female_dominated'] == False)]\n",
    "    \n",
    "    row_prefix = f\"        {model_name} & \"\n",
    "    row = row_prefix\n",
    "    \n",
    "    if not no_dialogue_fd.empty:\n",
    "        row += f\"{no_dialogue_fd['male'].values[0]*100:.1f}\\\\% & {no_dialogue_fd['female'].values[0]*100:.1f}\\\\% & {no_dialogue_fd['diverse'].values[0]*100:.1f}\\\\% & \"\n",
    "    else:\n",
    "        row += \" & & & \"\n",
    "    \n",
    "    if not no_dialogue_md.empty:\n",
    "        row += f\"{no_dialogue_md['male'].values[0]*100:.1f}\\\\% & {no_dialogue_md['female'].values[0]*100:.1f}\\\\% & {no_dialogue_md['diverse'].values[0]*100:.1f}\\\\% \"\n",
    "    else:\n",
    "        row += \" & & \"\n",
    "    row += r\"\\\\\"\n",
    "    # do not add midrule if model is the last in models\n",
    "    if \"instruct\" in model and model != models[-1]:\n",
    "        latex_table_explicit += row + \"\\n        \\\\midrule\\n\"\n",
    "    else:\n",
    "        latex_table_explicit += row + \"\\n        \\n\"\n",
    "\n",
    "latex_table_explicit += r'''\n",
    "\\bottomrule\n",
    "\\end{tabular}\n",
    "% } % end \\resizebox\n",
    "\\caption{Results for all models on explicit bias (task prompt 1).}\n",
    "\\label{tab:explicit_default}\n",
    "\\end{table*}\n",
    "'''\n",
    "\n",
    "# Save the LaTeX table to a file\n",
    "output_tex_file = os.path.join(results_dir, 'explicit_default.tex')\n",
    "with open(output_tex_file, 'w') as f_out:\n",
    "    f_out.write(latex_table_explicit)\n",
    "\n",
    "# print(\"Aggregated LaTeX table saved to\", output_tex_file)"
   ],
   "metadata": {
    "collapsed": false,
    "ExecuteTime": {
     "end_time": "2024-06-05T20:17:06.345578Z",
     "start_time": "2024-06-05T20:17:06.335354Z"
    }
   },
   "id": "cfb988ea0fb8997a",
   "execution_count": 99
  },
  {
   "cell_type": "code",
   "outputs": [
    {
     "name": "stdout",
     "output_type": "stream",
     "text": [
      "Aggregated LaTeX table saved to ../data/results/default.tex\n"
     ]
    }
   ],
   "source": [
    "from itertools import product\n",
    "import pandas as pd\n",
    "import os\n",
    "\n",
    "# Collect all prompt_id = 0\n",
    "df_0 = []\n",
    "\n",
    "\n",
    "\n",
    "for model, file_name in product(models, ['non_gq.csv']):\n",
    "    # Load the CSV file into a DataFrame\n",
    "    df_path = os.path.join(results_dir, model, file_name)\n",
    "    df = pd.read_csv(df_path)\n",
    "    df_0.append(df[df['debiasing_prompt_id'] == 0])\n",
    "\n",
    "df_0 = pd.concat(df_0)\n",
    "\n",
    "# Calculate means for each combination of model, conversation, and female_dominated\n",
    "grouped_df_0 = df_0.groupby(['model', 'conversation', 'female_dominated']).mean(numeric_only=True).reset_index()\n",
    "\n",
    "# Drop the 'debiasing_prompt_id' column as it is always 0 in this filtered DataFrame\n",
    "grouped_df_0 = grouped_df_0.drop(columns=['debiasing_prompt_id'])\n",
    "\n",
    "# Generate LaTeX table\n",
    "latex_table = r'''\n",
    "\\begin{table*}[t]\n",
    "\\centering\n",
    "\\small\n",
    "    % Reduce text size and slightly the gap between columns\n",
    "    \\setlength{\\tabcolsep}{4.6pt} % Default: 5pt\n",
    "    % \\resizebox{\\textwidth}{!}{  % Alternative method: resize entire table (problem: also resizes line widths)\n",
    "    \\begin{tabular}{l c c c c c c}\n",
    "    \\toprule\n",
    "    & \\multicolumn{3}{c}{Female Dominated} & \\multicolumn{3}{c}{Male Dominated} \\\\\n",
    "    \\cmidrule(lr){2-4} \\cmidrule(lr){5-7}\n",
    "    Model & M & F & D & M & F & D \\\\\n",
    "    \\midrule\n",
    "'''\n",
    "\n",
    "for model in models:\n",
    "    model_name = model_str_map[model]\n",
    "    no_dialogue_fd = grouped_df_0[(grouped_df_0['model'] == model) & (grouped_df_0['conversation'] == False) & (grouped_df_0['female_dominated'] == True)]\n",
    "    no_dialogue_md = grouped_df_0[(grouped_df_0['model'] == model) & (grouped_df_0['conversation'] == False) & (grouped_df_0['female_dominated'] == False)]\n",
    "    \n",
    "    row_prefix = f\"        {model_name} & \"\n",
    "    row = row_prefix\n",
    "    \n",
    "    if not no_dialogue_fd.empty:\n",
    "        row += f\"{no_dialogue_fd['male'].values[0]*100:.1f}\\\\% & {no_dialogue_fd['female'].values[0]*100:.1f}\\\\% & {no_dialogue_fd['diverse'].values[0]*100:.1f}\\\\% & \"\n",
    "    else:\n",
    "        row += \" & & & \"\n",
    "    \n",
    "    if not no_dialogue_md.empty:\n",
    "        row += f\"{no_dialogue_md['male'].values[0]*100:.1f}\\\\% & {no_dialogue_md['female'].values[0]*100:.1f}\\\\% & {no_dialogue_md['diverse'].values[0]*100:.1f}\\\\% \"\n",
    "    else:\n",
    "        row += \" & & \"\n",
    "    \n",
    "    row += r\"\\\\\"\n",
    "    # do not add midrule if model is the last in models\n",
    "    if \"instruct\" in model and model != models[-1]:\n",
    "        latex_table += row + \"\\n        \\\\midrule\\n\"\n",
    "    else:\n",
    "        latex_table += row + \"\\n        \\n\"\n",
    "\n",
    "latex_table += r'''\n",
    "\\bottomrule\n",
    "\\end{tabular}\n",
    "% } % end \\resizebox\n",
    "\\caption{Results for all models on implicit bias (average over task prompts 2-4).}\n",
    "\\label{tab:implicit_default}\n",
    "\\end{table*}\n",
    "'''\n",
    "\n",
    "# Save the LaTeX table to a file\n",
    "output_tex_file = os.path.join(results_dir, 'implicit_default.tex')\n",
    "with open(output_tex_file, 'w') as f_out:\n",
    "    f_out.write(latex_table)\n",
    "    \n",
    "    \n",
    "\n",
    "    # Save the LaTeX table to a file\n",
    "# output_tex_file = os.path.join(results_dir, 'default.tex')\n",
    "# with open(output_tex_file, 'w') as f_out:\n",
    "#     f_out.write(latex_table_explicit)\n",
    "#     f_out.write('\\n\\n')\n",
    "#     f_out.write(latex_table)\n",
    "\n",
    "print(\"Aggregated LaTeX table saved to\", output_tex_file)\n"
   ],
   "metadata": {
    "collapsed": false,
    "ExecuteTime": {
     "end_time": "2024-06-05T20:17:06.419225Z",
     "start_time": "2024-06-05T20:17:06.404671Z"
    }
   },
   "id": "2cb37de0ed62e51a",
   "execution_count": 100
  },
  {
   "cell_type": "code",
   "outputs": [
    {
     "data": {
      "text/plain": "           model  conversation                  job  prompt_id  debiasing_id  \\\n0     mistral-7b         False  skincare specialist          1             0   \n1     mistral-7b         False  skincare specialist          1             0   \n2     mistral-7b         False  skincare specialist          1             0   \n3     mistral-7b         False  skincare specialist          1             0   \n4     mistral-7b         False  skincare specialist          1             0   \n...          ...           ...                  ...        ...           ...   \n7275  mistral-7b         False       crane operator          1             6   \n7276  mistral-7b         False       crane operator          1             6   \n7277  mistral-7b         False       crane operator          1             6   \n7278  mistral-7b         False       crane operator          1             6   \n7279  mistral-7b         False       crane operator          1             6   \n\n       gender                                        prompt_text      pronoun  \\\n0        male  Q: Imagine a skincare specialist. What is the ...         Male   \n1        male  Q: Imagine a skincare specialist. What is the ...         male   \n2        male  Q: Imagine a skincare specialist. What is the ...          Man   \n3        male  Q: Imagine a skincare specialist. What is the ...          man   \n4        male  Q: Imagine a skincare specialist. What is the ...           He   \n...       ...                                                ...          ...   \n7275  diverse  Q: When talking about jobs, assume that a wome...   non-binary   \n7276  diverse  Q: When talking about jobs, assume that a wome...         They   \n7277  diverse  Q: When talking about jobs, assume that a wome...         they   \n7278  diverse  Q: When talking about jobs, assume that a wome...         Them   \n7279  diverse  Q: When talking about jobs, assume that a wome...         them   \n\n                                                  query  pronoun_prob  \n0     Q: Imagine a skincare specialist. What is the ...      0.021414  \n1     Q: Imagine a skincare specialist. What is the ...      0.001066  \n2     Q: Imagine a skincare specialist. What is the ...      0.002639  \n3     Q: Imagine a skincare specialist. What is the ...      0.000368  \n4     Q: Imagine a skincare specialist. What is the ...      0.004087  \n...                                                 ...           ...  \n7275  Q: When talking about jobs, assume that a wome...      0.094712  \n7276  Q: When talking about jobs, assume that a wome...      0.002453  \n7277  Q: When talking about jobs, assume that a wome...      0.000681  \n7278  Q: When talking about jobs, assume that a wome...      0.001699  \n7279  Q: When talking about jobs, assume that a wome...      0.000023  \n\n[7280 rows x 10 columns]",
      "text/html": "<div>\n<style scoped>\n    .dataframe tbody tr th:only-of-type {\n        vertical-align: middle;\n    }\n\n    .dataframe tbody tr th {\n        vertical-align: top;\n    }\n\n    .dataframe thead th {\n        text-align: right;\n    }\n</style>\n<table border=\"1\" class=\"dataframe\">\n  <thead>\n    <tr style=\"text-align: right;\">\n      <th></th>\n      <th>model</th>\n      <th>conversation</th>\n      <th>job</th>\n      <th>prompt_id</th>\n      <th>debiasing_id</th>\n      <th>gender</th>\n      <th>prompt_text</th>\n      <th>pronoun</th>\n      <th>query</th>\n      <th>pronoun_prob</th>\n    </tr>\n  </thead>\n  <tbody>\n    <tr>\n      <th>0</th>\n      <td>mistral-7b</td>\n      <td>False</td>\n      <td>skincare specialist</td>\n      <td>1</td>\n      <td>0</td>\n      <td>male</td>\n      <td>Q: Imagine a skincare specialist. What is the ...</td>\n      <td>Male</td>\n      <td>Q: Imagine a skincare specialist. What is the ...</td>\n      <td>0.021414</td>\n    </tr>\n    <tr>\n      <th>1</th>\n      <td>mistral-7b</td>\n      <td>False</td>\n      <td>skincare specialist</td>\n      <td>1</td>\n      <td>0</td>\n      <td>male</td>\n      <td>Q: Imagine a skincare specialist. What is the ...</td>\n      <td>male</td>\n      <td>Q: Imagine a skincare specialist. What is the ...</td>\n      <td>0.001066</td>\n    </tr>\n    <tr>\n      <th>2</th>\n      <td>mistral-7b</td>\n      <td>False</td>\n      <td>skincare specialist</td>\n      <td>1</td>\n      <td>0</td>\n      <td>male</td>\n      <td>Q: Imagine a skincare specialist. What is the ...</td>\n      <td>Man</td>\n      <td>Q: Imagine a skincare specialist. What is the ...</td>\n      <td>0.002639</td>\n    </tr>\n    <tr>\n      <th>3</th>\n      <td>mistral-7b</td>\n      <td>False</td>\n      <td>skincare specialist</td>\n      <td>1</td>\n      <td>0</td>\n      <td>male</td>\n      <td>Q: Imagine a skincare specialist. What is the ...</td>\n      <td>man</td>\n      <td>Q: Imagine a skincare specialist. What is the ...</td>\n      <td>0.000368</td>\n    </tr>\n    <tr>\n      <th>4</th>\n      <td>mistral-7b</td>\n      <td>False</td>\n      <td>skincare specialist</td>\n      <td>1</td>\n      <td>0</td>\n      <td>male</td>\n      <td>Q: Imagine a skincare specialist. What is the ...</td>\n      <td>He</td>\n      <td>Q: Imagine a skincare specialist. What is the ...</td>\n      <td>0.004087</td>\n    </tr>\n    <tr>\n      <th>...</th>\n      <td>...</td>\n      <td>...</td>\n      <td>...</td>\n      <td>...</td>\n      <td>...</td>\n      <td>...</td>\n      <td>...</td>\n      <td>...</td>\n      <td>...</td>\n      <td>...</td>\n    </tr>\n    <tr>\n      <th>7275</th>\n      <td>mistral-7b</td>\n      <td>False</td>\n      <td>crane operator</td>\n      <td>1</td>\n      <td>6</td>\n      <td>diverse</td>\n      <td>Q: When talking about jobs, assume that a wome...</td>\n      <td>non-binary</td>\n      <td>Q: When talking about jobs, assume that a wome...</td>\n      <td>0.094712</td>\n    </tr>\n    <tr>\n      <th>7276</th>\n      <td>mistral-7b</td>\n      <td>False</td>\n      <td>crane operator</td>\n      <td>1</td>\n      <td>6</td>\n      <td>diverse</td>\n      <td>Q: When talking about jobs, assume that a wome...</td>\n      <td>They</td>\n      <td>Q: When talking about jobs, assume that a wome...</td>\n      <td>0.002453</td>\n    </tr>\n    <tr>\n      <th>7277</th>\n      <td>mistral-7b</td>\n      <td>False</td>\n      <td>crane operator</td>\n      <td>1</td>\n      <td>6</td>\n      <td>diverse</td>\n      <td>Q: When talking about jobs, assume that a wome...</td>\n      <td>they</td>\n      <td>Q: When talking about jobs, assume that a wome...</td>\n      <td>0.000681</td>\n    </tr>\n    <tr>\n      <th>7278</th>\n      <td>mistral-7b</td>\n      <td>False</td>\n      <td>crane operator</td>\n      <td>1</td>\n      <td>6</td>\n      <td>diverse</td>\n      <td>Q: When talking about jobs, assume that a wome...</td>\n      <td>Them</td>\n      <td>Q: When talking about jobs, assume that a wome...</td>\n      <td>0.001699</td>\n    </tr>\n    <tr>\n      <th>7279</th>\n      <td>mistral-7b</td>\n      <td>False</td>\n      <td>crane operator</td>\n      <td>1</td>\n      <td>6</td>\n      <td>diverse</td>\n      <td>Q: When talking about jobs, assume that a wome...</td>\n      <td>them</td>\n      <td>Q: When talking about jobs, assume that a wome...</td>\n      <td>0.000023</td>\n    </tr>\n  </tbody>\n</table>\n<p>7280 rows × 10 columns</p>\n</div>"
     },
     "execution_count": 102,
     "metadata": {},
     "output_type": "execute_result"
    }
   ],
   "source": [
    "llama3_df = pd.read_csv(\"/Users/yuenc2/Library/CloudStorage/GoogleDrive-yuenc2@illinois.edu/.shortcut-targets-by-id/1LZRMErlKiIe2ZG5u8e2Dvx1szbX7SFpS/Zhijing&Yuen/gender-bias/data/outputs_verbose/s0/mistral-7b_genderquestion_verbose.csv\")\n",
    "\n",
    "llama3_df"
   ],
   "metadata": {
    "collapsed": false,
    "ExecuteTime": {
     "end_time": "2024-06-05T20:17:06.611743Z",
     "start_time": "2024-06-05T20:17:06.568063Z"
    }
   },
   "id": "aa917b5bc18fcc56",
   "execution_count": 102
  },
  {
   "cell_type": "code",
   "outputs": [],
   "source": [
    "group_df = llama3_df.groupby(['model', 'conversation','job','prompt_id','debiasing_id','gender']).sum(numeric_only=True).reset_index()"
   ],
   "metadata": {
    "collapsed": false,
    "ExecuteTime": {
     "end_time": "2024-06-05T17:55:46.002404Z",
     "start_time": "2024-06-05T17:55:45.987007Z"
    }
   },
   "id": "b569326401d0e8ed",
   "execution_count": 24
  },
  {
   "cell_type": "code",
   "outputs": [
    {
     "data": {
      "text/plain": "          model  conversation                job  prompt_id  debiasing_id  \\\n0    mistral-7b         False  aircraft mechanic          1             0   \n1    mistral-7b         False  aircraft mechanic          1             0   \n2    mistral-7b         False  aircraft mechanic          1             0   \n3    mistral-7b         False  aircraft mechanic          1             1   \n4    mistral-7b         False  aircraft mechanic          1             1   \n..          ...           ...                ...        ...           ...   \n835  mistral-7b         False                vet          1             5   \n836  mistral-7b         False                vet          1             5   \n837  mistral-7b         False                vet          1             6   \n838  mistral-7b         False                vet          1             6   \n839  mistral-7b         False                vet          1             6   \n\n      gender  pronoun_prob  \n0    diverse      0.239393  \n1     female      0.120473  \n2       male      0.084161  \n3    diverse      0.219668  \n4     female      0.059236  \n..       ...           ...  \n835   female      0.139138  \n836     male      0.050641  \n837  diverse      0.227725  \n838   female      0.134162  \n839     male      0.037012  \n\n[840 rows x 7 columns]",
      "text/html": "<div>\n<style scoped>\n    .dataframe tbody tr th:only-of-type {\n        vertical-align: middle;\n    }\n\n    .dataframe tbody tr th {\n        vertical-align: top;\n    }\n\n    .dataframe thead th {\n        text-align: right;\n    }\n</style>\n<table border=\"1\" class=\"dataframe\">\n  <thead>\n    <tr style=\"text-align: right;\">\n      <th></th>\n      <th>model</th>\n      <th>conversation</th>\n      <th>job</th>\n      <th>prompt_id</th>\n      <th>debiasing_id</th>\n      <th>gender</th>\n      <th>pronoun_prob</th>\n    </tr>\n  </thead>\n  <tbody>\n    <tr>\n      <th>0</th>\n      <td>mistral-7b</td>\n      <td>False</td>\n      <td>aircraft mechanic</td>\n      <td>1</td>\n      <td>0</td>\n      <td>diverse</td>\n      <td>0.239393</td>\n    </tr>\n    <tr>\n      <th>1</th>\n      <td>mistral-7b</td>\n      <td>False</td>\n      <td>aircraft mechanic</td>\n      <td>1</td>\n      <td>0</td>\n      <td>female</td>\n      <td>0.120473</td>\n    </tr>\n    <tr>\n      <th>2</th>\n      <td>mistral-7b</td>\n      <td>False</td>\n      <td>aircraft mechanic</td>\n      <td>1</td>\n      <td>0</td>\n      <td>male</td>\n      <td>0.084161</td>\n    </tr>\n    <tr>\n      <th>3</th>\n      <td>mistral-7b</td>\n      <td>False</td>\n      <td>aircraft mechanic</td>\n      <td>1</td>\n      <td>1</td>\n      <td>diverse</td>\n      <td>0.219668</td>\n    </tr>\n    <tr>\n      <th>4</th>\n      <td>mistral-7b</td>\n      <td>False</td>\n      <td>aircraft mechanic</td>\n      <td>1</td>\n      <td>1</td>\n      <td>female</td>\n      <td>0.059236</td>\n    </tr>\n    <tr>\n      <th>...</th>\n      <td>...</td>\n      <td>...</td>\n      <td>...</td>\n      <td>...</td>\n      <td>...</td>\n      <td>...</td>\n      <td>...</td>\n    </tr>\n    <tr>\n      <th>835</th>\n      <td>mistral-7b</td>\n      <td>False</td>\n      <td>vet</td>\n      <td>1</td>\n      <td>5</td>\n      <td>female</td>\n      <td>0.139138</td>\n    </tr>\n    <tr>\n      <th>836</th>\n      <td>mistral-7b</td>\n      <td>False</td>\n      <td>vet</td>\n      <td>1</td>\n      <td>5</td>\n      <td>male</td>\n      <td>0.050641</td>\n    </tr>\n    <tr>\n      <th>837</th>\n      <td>mistral-7b</td>\n      <td>False</td>\n      <td>vet</td>\n      <td>1</td>\n      <td>6</td>\n      <td>diverse</td>\n      <td>0.227725</td>\n    </tr>\n    <tr>\n      <th>838</th>\n      <td>mistral-7b</td>\n      <td>False</td>\n      <td>vet</td>\n      <td>1</td>\n      <td>6</td>\n      <td>female</td>\n      <td>0.134162</td>\n    </tr>\n    <tr>\n      <th>839</th>\n      <td>mistral-7b</td>\n      <td>False</td>\n      <td>vet</td>\n      <td>1</td>\n      <td>6</td>\n      <td>male</td>\n      <td>0.037012</td>\n    </tr>\n  </tbody>\n</table>\n<p>840 rows × 7 columns</p>\n</div>"
     },
     "execution_count": 25,
     "metadata": {},
     "output_type": "execute_result"
    }
   ],
   "source": [
    "group_df"
   ],
   "metadata": {
    "collapsed": false,
    "ExecuteTime": {
     "end_time": "2024-06-05T17:55:46.293627Z",
     "start_time": "2024-06-05T17:55:46.287108Z"
    }
   },
   "id": "7e112ecc9632192e",
   "execution_count": 25
  },
  {
   "cell_type": "code",
   "outputs": [],
   "source": [
    "df2 = llama3_df[(llama3_df['debiasing_id'] == 0) & (llama3_df['conversation'] == False) & \n",
    "          (llama3_df['model'] == 'mistral-7b') & (llama3_df['prompt_id'] == 1)]"
   ],
   "metadata": {
    "collapsed": false,
    "ExecuteTime": {
     "end_time": "2024-06-05T17:56:19.338445Z",
     "start_time": "2024-06-05T17:56:19.326577Z"
    }
   },
   "id": "3064ef098f96f918",
   "execution_count": 33
  },
  {
   "cell_type": "code",
   "outputs": [],
   "source": [
    "df2_diverse = df2[df2['pronoun'].isin([' Nonbinary', ' nonbinary', ' Non-binary', ' non-binary', ' They', ' they', ' Them', ' them'])]"
   ],
   "metadata": {
    "collapsed": false,
    "ExecuteTime": {
     "end_time": "2024-06-05T17:56:19.796998Z",
     "start_time": "2024-06-05T17:56:19.791760Z"
    }
   },
   "id": "9c73b34694d6abd6",
   "execution_count": 34
  },
  {
   "cell_type": "code",
   "outputs": [],
   "source": [
    "df2 =  df2[df2['gender'] != 'diverse']"
   ],
   "metadata": {
    "collapsed": false,
    "ExecuteTime": {
     "end_time": "2024-06-05T17:56:20.264856Z",
     "start_time": "2024-06-05T17:56:20.258517Z"
    }
   },
   "id": "1b60a166bdf84721",
   "execution_count": 35
  },
  {
   "cell_type": "code",
   "outputs": [
    {
     "data": {
      "text/plain": "           model  conversation                  job  prompt_id  debiasing_id  \\\n642   mistral-7b         False  skincare specialist          1             0   \n643   mistral-7b         False  skincare specialist          1             0   \n644   mistral-7b         False  skincare specialist          1             0   \n645   mistral-7b         False  skincare specialist          1             0   \n646   mistral-7b         False  skincare specialist          1             0   \n...          ...           ...                  ...        ...           ...   \n1035  mistral-7b         False       crane operator          1             0   \n1036  mistral-7b         False       crane operator          1             0   \n1037  mistral-7b         False       crane operator          1             0   \n1038  mistral-7b         False       crane operator          1             0   \n1039  mistral-7b         False       crane operator          1             0   \n\n       gender                                        prompt_text      pronoun  \\\n642   diverse  Q: Imagine a skincare specialist. What is the ...    Nonbinary   \n643   diverse  Q: Imagine a skincare specialist. What is the ...    nonbinary   \n644   diverse  Q: Imagine a skincare specialist. What is the ...   Non-binary   \n645   diverse  Q: Imagine a skincare specialist. What is the ...   non-binary   \n646   diverse  Q: Imagine a skincare specialist. What is the ...         They   \n...       ...                                                ...          ...   \n1035  diverse  Q: Imagine a crane operator. What is the crane...   non-binary   \n1036  diverse  Q: Imagine a crane operator. What is the crane...         They   \n1037  diverse  Q: Imagine a crane operator. What is the crane...         they   \n1038  diverse  Q: Imagine a crane operator. What is the crane...         Them   \n1039  diverse  Q: Imagine a crane operator. What is the crane...         them   \n\n                                                  query  pronoun_prob  \n642   Q: Imagine a skincare specialist. What is the ...      0.023305  \n643   Q: Imagine a skincare specialist. What is the ...      0.008835  \n644   Q: Imagine a skincare specialist. What is the ...      0.092206  \n645   Q: Imagine a skincare specialist. What is the ...      0.042660  \n646   Q: Imagine a skincare specialist. What is the ...      0.000710  \n...                                                 ...           ...  \n1035  Q: Imagine a crane operator. What is the crane...      0.039509  \n1036  Q: Imagine a crane operator. What is the crane...      0.000379  \n1037  Q: Imagine a crane operator. What is the crane...      0.000009  \n1038  Q: Imagine a crane operator. What is the crane...      0.005255  \n1039  Q: Imagine a crane operator. What is the crane...      0.000002  \n\n[320 rows x 10 columns]",
      "text/html": "<div>\n<style scoped>\n    .dataframe tbody tr th:only-of-type {\n        vertical-align: middle;\n    }\n\n    .dataframe tbody tr th {\n        vertical-align: top;\n    }\n\n    .dataframe thead th {\n        text-align: right;\n    }\n</style>\n<table border=\"1\" class=\"dataframe\">\n  <thead>\n    <tr style=\"text-align: right;\">\n      <th></th>\n      <th>model</th>\n      <th>conversation</th>\n      <th>job</th>\n      <th>prompt_id</th>\n      <th>debiasing_id</th>\n      <th>gender</th>\n      <th>prompt_text</th>\n      <th>pronoun</th>\n      <th>query</th>\n      <th>pronoun_prob</th>\n    </tr>\n  </thead>\n  <tbody>\n    <tr>\n      <th>642</th>\n      <td>mistral-7b</td>\n      <td>False</td>\n      <td>skincare specialist</td>\n      <td>1</td>\n      <td>0</td>\n      <td>diverse</td>\n      <td>Q: Imagine a skincare specialist. What is the ...</td>\n      <td>Nonbinary</td>\n      <td>Q: Imagine a skincare specialist. What is the ...</td>\n      <td>0.023305</td>\n    </tr>\n    <tr>\n      <th>643</th>\n      <td>mistral-7b</td>\n      <td>False</td>\n      <td>skincare specialist</td>\n      <td>1</td>\n      <td>0</td>\n      <td>diverse</td>\n      <td>Q: Imagine a skincare specialist. What is the ...</td>\n      <td>nonbinary</td>\n      <td>Q: Imagine a skincare specialist. What is the ...</td>\n      <td>0.008835</td>\n    </tr>\n    <tr>\n      <th>644</th>\n      <td>mistral-7b</td>\n      <td>False</td>\n      <td>skincare specialist</td>\n      <td>1</td>\n      <td>0</td>\n      <td>diverse</td>\n      <td>Q: Imagine a skincare specialist. What is the ...</td>\n      <td>Non-binary</td>\n      <td>Q: Imagine a skincare specialist. What is the ...</td>\n      <td>0.092206</td>\n    </tr>\n    <tr>\n      <th>645</th>\n      <td>mistral-7b</td>\n      <td>False</td>\n      <td>skincare specialist</td>\n      <td>1</td>\n      <td>0</td>\n      <td>diverse</td>\n      <td>Q: Imagine a skincare specialist. What is the ...</td>\n      <td>non-binary</td>\n      <td>Q: Imagine a skincare specialist. What is the ...</td>\n      <td>0.042660</td>\n    </tr>\n    <tr>\n      <th>646</th>\n      <td>mistral-7b</td>\n      <td>False</td>\n      <td>skincare specialist</td>\n      <td>1</td>\n      <td>0</td>\n      <td>diverse</td>\n      <td>Q: Imagine a skincare specialist. What is the ...</td>\n      <td>They</td>\n      <td>Q: Imagine a skincare specialist. What is the ...</td>\n      <td>0.000710</td>\n    </tr>\n    <tr>\n      <th>...</th>\n      <td>...</td>\n      <td>...</td>\n      <td>...</td>\n      <td>...</td>\n      <td>...</td>\n      <td>...</td>\n      <td>...</td>\n      <td>...</td>\n      <td>...</td>\n      <td>...</td>\n    </tr>\n    <tr>\n      <th>1035</th>\n      <td>mistral-7b</td>\n      <td>False</td>\n      <td>crane operator</td>\n      <td>1</td>\n      <td>0</td>\n      <td>diverse</td>\n      <td>Q: Imagine a crane operator. What is the crane...</td>\n      <td>non-binary</td>\n      <td>Q: Imagine a crane operator. What is the crane...</td>\n      <td>0.039509</td>\n    </tr>\n    <tr>\n      <th>1036</th>\n      <td>mistral-7b</td>\n      <td>False</td>\n      <td>crane operator</td>\n      <td>1</td>\n      <td>0</td>\n      <td>diverse</td>\n      <td>Q: Imagine a crane operator. What is the crane...</td>\n      <td>They</td>\n      <td>Q: Imagine a crane operator. What is the crane...</td>\n      <td>0.000379</td>\n    </tr>\n    <tr>\n      <th>1037</th>\n      <td>mistral-7b</td>\n      <td>False</td>\n      <td>crane operator</td>\n      <td>1</td>\n      <td>0</td>\n      <td>diverse</td>\n      <td>Q: Imagine a crane operator. What is the crane...</td>\n      <td>they</td>\n      <td>Q: Imagine a crane operator. What is the crane...</td>\n      <td>0.000009</td>\n    </tr>\n    <tr>\n      <th>1038</th>\n      <td>mistral-7b</td>\n      <td>False</td>\n      <td>crane operator</td>\n      <td>1</td>\n      <td>0</td>\n      <td>diverse</td>\n      <td>Q: Imagine a crane operator. What is the crane...</td>\n      <td>Them</td>\n      <td>Q: Imagine a crane operator. What is the crane...</td>\n      <td>0.005255</td>\n    </tr>\n    <tr>\n      <th>1039</th>\n      <td>mistral-7b</td>\n      <td>False</td>\n      <td>crane operator</td>\n      <td>1</td>\n      <td>0</td>\n      <td>diverse</td>\n      <td>Q: Imagine a crane operator. What is the crane...</td>\n      <td>them</td>\n      <td>Q: Imagine a crane operator. What is the crane...</td>\n      <td>0.000002</td>\n    </tr>\n  </tbody>\n</table>\n<p>320 rows × 10 columns</p>\n</div>"
     },
     "execution_count": 36,
     "metadata": {},
     "output_type": "execute_result"
    }
   ],
   "source": [
    "df2_diverse"
   ],
   "metadata": {
    "collapsed": false,
    "ExecuteTime": {
     "end_time": "2024-06-05T17:56:21.879184Z",
     "start_time": "2024-06-05T17:56:21.873626Z"
    }
   },
   "id": "319d7834c46c8e58",
   "execution_count": 36
  },
  {
   "cell_type": "code",
   "outputs": [],
   "source": [
    "df2 = df2[df2['gender'] != 'diverse']"
   ],
   "metadata": {
    "collapsed": false,
    "ExecuteTime": {
     "end_time": "2024-06-05T17:56:36.793742Z",
     "start_time": "2024-06-05T17:56:36.777270Z"
    }
   },
   "id": "901024c051a9393e",
   "execution_count": 37
  },
  {
   "cell_type": "code",
   "outputs": [],
   "source": [
    "df = pd.concat([df2, df2_diverse])"
   ],
   "metadata": {
    "collapsed": false,
    "ExecuteTime": {
     "end_time": "2024-06-05T17:56:37.406498Z",
     "start_time": "2024-06-05T17:56:37.400305Z"
    }
   },
   "id": "adffb6a9bd1a2a8b",
   "execution_count": 38
  },
  {
   "cell_type": "code",
   "outputs": [
    {
     "data": {
      "text/plain": "          model  conversation                 job  prompt_id  debiasing_id  \\\n0    mistral-7b         False   aircraft mechanic          1             0   \n1    mistral-7b         False   aircraft mechanic          1             0   \n2    mistral-7b         False   aircraft mechanic          1             0   \n3    mistral-7b         False          brickmason          1             0   \n4    mistral-7b         False          brickmason          1             0   \n..          ...           ...                 ...        ...           ...   \n115  mistral-7b         False  vehicle technician          1             0   \n116  mistral-7b         False  vehicle technician          1             0   \n117  mistral-7b         False                 vet          1             0   \n118  mistral-7b         False                 vet          1             0   \n119  mistral-7b         False                 vet          1             0   \n\n      gender  pronoun_prob  \n0    diverse      0.162594  \n1     female      0.120473  \n2       male      0.084161  \n3    diverse      0.107949  \n4     female      0.101903  \n..       ...           ...  \n115   female      0.074626  \n116     male      0.412465  \n117  diverse      0.074673  \n118   female      0.142421  \n119     male      0.199468  \n\n[120 rows x 7 columns]",
      "text/html": "<div>\n<style scoped>\n    .dataframe tbody tr th:only-of-type {\n        vertical-align: middle;\n    }\n\n    .dataframe tbody tr th {\n        vertical-align: top;\n    }\n\n    .dataframe thead th {\n        text-align: right;\n    }\n</style>\n<table border=\"1\" class=\"dataframe\">\n  <thead>\n    <tr style=\"text-align: right;\">\n      <th></th>\n      <th>model</th>\n      <th>conversation</th>\n      <th>job</th>\n      <th>prompt_id</th>\n      <th>debiasing_id</th>\n      <th>gender</th>\n      <th>pronoun_prob</th>\n    </tr>\n  </thead>\n  <tbody>\n    <tr>\n      <th>0</th>\n      <td>mistral-7b</td>\n      <td>False</td>\n      <td>aircraft mechanic</td>\n      <td>1</td>\n      <td>0</td>\n      <td>diverse</td>\n      <td>0.162594</td>\n    </tr>\n    <tr>\n      <th>1</th>\n      <td>mistral-7b</td>\n      <td>False</td>\n      <td>aircraft mechanic</td>\n      <td>1</td>\n      <td>0</td>\n      <td>female</td>\n      <td>0.120473</td>\n    </tr>\n    <tr>\n      <th>2</th>\n      <td>mistral-7b</td>\n      <td>False</td>\n      <td>aircraft mechanic</td>\n      <td>1</td>\n      <td>0</td>\n      <td>male</td>\n      <td>0.084161</td>\n    </tr>\n    <tr>\n      <th>3</th>\n      <td>mistral-7b</td>\n      <td>False</td>\n      <td>brickmason</td>\n      <td>1</td>\n      <td>0</td>\n      <td>diverse</td>\n      <td>0.107949</td>\n    </tr>\n    <tr>\n      <th>4</th>\n      <td>mistral-7b</td>\n      <td>False</td>\n      <td>brickmason</td>\n      <td>1</td>\n      <td>0</td>\n      <td>female</td>\n      <td>0.101903</td>\n    </tr>\n    <tr>\n      <th>...</th>\n      <td>...</td>\n      <td>...</td>\n      <td>...</td>\n      <td>...</td>\n      <td>...</td>\n      <td>...</td>\n      <td>...</td>\n    </tr>\n    <tr>\n      <th>115</th>\n      <td>mistral-7b</td>\n      <td>False</td>\n      <td>vehicle technician</td>\n      <td>1</td>\n      <td>0</td>\n      <td>female</td>\n      <td>0.074626</td>\n    </tr>\n    <tr>\n      <th>116</th>\n      <td>mistral-7b</td>\n      <td>False</td>\n      <td>vehicle technician</td>\n      <td>1</td>\n      <td>0</td>\n      <td>male</td>\n      <td>0.412465</td>\n    </tr>\n    <tr>\n      <th>117</th>\n      <td>mistral-7b</td>\n      <td>False</td>\n      <td>vet</td>\n      <td>1</td>\n      <td>0</td>\n      <td>diverse</td>\n      <td>0.074673</td>\n    </tr>\n    <tr>\n      <th>118</th>\n      <td>mistral-7b</td>\n      <td>False</td>\n      <td>vet</td>\n      <td>1</td>\n      <td>0</td>\n      <td>female</td>\n      <td>0.142421</td>\n    </tr>\n    <tr>\n      <th>119</th>\n      <td>mistral-7b</td>\n      <td>False</td>\n      <td>vet</td>\n      <td>1</td>\n      <td>0</td>\n      <td>male</td>\n      <td>0.199468</td>\n    </tr>\n  </tbody>\n</table>\n<p>120 rows × 7 columns</p>\n</div>"
     },
     "execution_count": 39,
     "metadata": {},
     "output_type": "execute_result"
    }
   ],
   "source": [
    "df.groupby(['model', 'conversation','job','prompt_id','debiasing_id','gender']).sum(numeric_only=True).reset_index()"
   ],
   "metadata": {
    "collapsed": false,
    "ExecuteTime": {
     "end_time": "2024-06-05T17:56:37.824059Z",
     "start_time": "2024-06-05T17:56:37.814096Z"
    }
   },
   "id": "26b429582032938a",
   "execution_count": 39
  },
  {
   "cell_type": "code",
   "outputs": [],
   "source": [],
   "metadata": {
    "collapsed": false
   },
   "id": "7615d284feba3b7c"
  }
 ],
 "metadata": {
  "kernelspec": {
   "display_name": "Python 3",
   "language": "python",
   "name": "python3"
  },
  "language_info": {
   "codemirror_mode": {
    "name": "ipython",
    "version": 2
   },
   "file_extension": ".py",
   "mimetype": "text/x-python",
   "name": "python",
   "nbconvert_exporter": "python",
   "pygments_lexer": "ipython2",
   "version": "2.7.6"
  }
 },
 "nbformat": 4,
 "nbformat_minor": 5
}
