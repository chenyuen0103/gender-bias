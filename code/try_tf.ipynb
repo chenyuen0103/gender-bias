{
 "cells": [
  {
   "cell_type": "code",
   "outputs": [
    {
     "name": "stdout",
     "output_type": "stream",
     "text": [
      "Fix the column names in llama3-8b-instruct_low-1_genderquestion.csv\n",
      "Fix the column names in llama3-8b-instruct_none_genderquestion.csv\n",
      "Fix the column names in llama3-8b_low-1_genderquestion.csv\n",
      "Fix the column names in mistral-7b-instruct_none_genderquestion.csv\n",
      "Fix the column names in llama2-7b-chat_none_genderquestion.csv\n",
      "Fix the column names in llama3-8b_none__genderquestion_conv.csv\n",
      "Fix the column names in llama3-8b-instruct_none__genderquestion_conv.csv\n",
      "Fix the column names in llama3-8b_none_genderquestion.csv\n"
     ]
    }
   ],
   "source": [
    "import pandas as pd\n",
    "import os\n",
    "from transformers import GPT2TokenizerFast, GPT2LMHeadModel, pipeline\n",
    "import math\n",
    "import torch\n",
    "import numpy as np\n",
    "\n",
    "input_dir = '../data/inputs'\n",
    "output_dir = '../data/outputs'\n",
    "\n",
    "# for model in  llama3-8b llama3-8b-instruct mistral-7b mistral-7b-instruct llama2-7b llama2-7b-chat\n",
    "model_strs = ['llama3-8b', 'llama3-8b-instruct', 'mistral-7b', 'mistral-7b-instruct', 'llama2-7b', 'llama2-7b-chat']\n",
    "\n",
    "for f in os.listdir(output_dir):\n",
    "    if 'genderquestion' in f:\n",
    "        df = pd.read_csv(os.path.join(output_dir, f))\n",
    "        model_str = f.split('_')[0]\n",
    "        # rename the columns to f{model_str}_{original_column_name.split('_')[1]}\n",
    "        df.columns = [f'{model_str}_{col.split(\"_\")[-1]}' if \"(\" in col else col for col in df.columns] \n",
    "        # df.to_csv(os.path.join(output_dir, f), index=False)\n",
    "        print(f\"Fix the column names in {f}\")\n",
    "            \n",
    "    \n"
   ],
   "metadata": {
    "collapsed": false,
    "ExecuteTime": {
     "end_time": "2024-05-31T13:59:18.629510Z",
     "start_time": "2024-05-31T13:59:18.483765Z"
    }
   },
   "id": "9026f5b07325c14a",
   "execution_count": 7
  },
  {
   "cell_type": "code",
   "outputs": [
    {
     "name": "stdout",
     "output_type": "stream",
     "text": [
      "Fix the file name in llama3-8b_none__genderquestion_conv.csv\n",
      "Fix the file name in llama3-8b-instruct_none__genderquestion_conv.csv\n"
     ]
    }
   ],
   "source": [
    "for f in os.listdir(output_dir):\n",
    "    if '__' in f:\n",
    "        # os.rename(os.path.join(output_dir, f), os.path.join(output_dir, f.replace('__', '_')))\n",
    "        print(f\"Fix the file name in {f}\")\n"
   ],
   "metadata": {
    "collapsed": false,
    "ExecuteTime": {
     "end_time": "2024-05-31T14:00:31.694586Z",
     "start_time": "2024-05-31T14:00:31.693722Z"
    }
   },
   "id": "cdd272bb79b0793a",
   "execution_count": 8
  }
 ],
 "metadata": {
  "kernelspec": {
   "display_name": "Python 3",
   "language": "python",
   "name": "python3"
  },
  "language_info": {
   "codemirror_mode": {
    "name": "ipython",
    "version": 2
   },
   "file_extension": ".py",
   "mimetype": "text/x-python",
   "name": "python",
   "nbconvert_exporter": "python",
   "pygments_lexer": "ipython2",
   "version": "2.7.6"
  }
 },
 "nbformat": 4,
 "nbformat_minor": 5
}
